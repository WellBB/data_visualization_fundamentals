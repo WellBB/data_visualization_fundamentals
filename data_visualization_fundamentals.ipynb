{
 "cells": [
  {
   "cell_type": "markdown",
   "id": "3761a321",
   "metadata": {},
   "source": [
    "# Applying data visualization concepts to a database with funds citation"
   ]
  },
  {
   "cell_type": "markdown",
   "id": "cd7ffce5-6810-4473-be2f-874126c51c80",
   "metadata": {},
   "source": [
    "<font color='yellow'>Project description:</font> apply data visualization concepts to validate the daily funds citation in municipalities in Rio Grande do Sul/Brazil, considering the GDP.\n",
    "\n",
    "<font color='yellow'>Directory for the database:</font> displayed in the project folder.\n",
    "\n",
    "<font color='yellow'>Languages used for this project:</font> Python.\n",
    "\n",
    "<font color='yellow'>Project information:</font>\n",
    "* Database: dados.csv\n",
    "* Valid entries:\n",
    "    * City code (CODIGO)\n",
    "    * City (MUNICIPIO)\n",
    "    * GDP (PIB)\n",
    "    * Funds citation (VALOREMPNEHO)"
   ]
  },
  {
   "cell_type": "code",
   "execution_count": 1,
   "id": "0a261398-cc1a-40a8-89fc-ff12fc665997",
   "metadata": {},
   "outputs": [],
   "source": [
    "import pandas as pd\n",
    "import numpy as np\n",
    "import matplotlib.pyplot as plt\n",
    "import seaborn as srn"
   ]
  },
  {
   "cell_type": "code",
   "execution_count": 2,
   "id": "85dec65c-925b-4e34-9ac9-869f532206da",
   "metadata": {},
   "outputs": [
    {
     "data": {
      "text/html": [
       "<div>\n",
       "<style scoped>\n",
       "    .dataframe tbody tr th:only-of-type {\n",
       "        vertical-align: middle;\n",
       "    }\n",
       "\n",
       "    .dataframe tbody tr th {\n",
       "        vertical-align: top;\n",
       "    }\n",
       "\n",
       "    .dataframe thead th {\n",
       "        text-align: right;\n",
       "    }\n",
       "</style>\n",
       "<table border=\"1\" class=\"dataframe\">\n",
       "  <thead>\n",
       "    <tr style=\"text-align: right;\">\n",
       "      <th></th>\n",
       "      <th>CODIGO</th>\n",
       "      <th>MUNICIPIO</th>\n",
       "      <th>PIB</th>\n",
       "      <th>VALOREMPENHO</th>\n",
       "    </tr>\n",
       "  </thead>\n",
       "  <tbody>\n",
       "    <tr>\n",
       "      <th>0</th>\n",
       "      <td>106</td>\n",
       "      <td>SANTANA DO LIVRAMENTO</td>\n",
       "      <td>12240.76</td>\n",
       "      <td>1088666.10</td>\n",
       "    </tr>\n",
       "    <tr>\n",
       "      <th>1</th>\n",
       "      <td>113</td>\n",
       "      <td>SANTO ANGELO</td>\n",
       "      <td>16575.82</td>\n",
       "      <td>800669.92</td>\n",
       "    </tr>\n",
       "    <tr>\n",
       "      <th>2</th>\n",
       "      <td>118</td>\n",
       "      <td>SAO FRANCISCO DE ASSIS</td>\n",
       "      <td>12037.61</td>\n",
       "      <td>466122.80</td>\n",
       "    </tr>\n",
       "    <tr>\n",
       "      <th>3</th>\n",
       "      <td>13</td>\n",
       "      <td>CACAPAVA DO SUL</td>\n",
       "      <td>13674.54</td>\n",
       "      <td>485535.86</td>\n",
       "    </tr>\n",
       "    <tr>\n",
       "      <th>4</th>\n",
       "      <td>120</td>\n",
       "      <td>SAO GABRIEL</td>\n",
       "      <td>19912.38</td>\n",
       "      <td>533719.86</td>\n",
       "    </tr>\n",
       "  </tbody>\n",
       "</table>\n",
       "</div>"
      ],
      "text/plain": [
       "   CODIGO               MUNICIPIO       PIB  VALOREMPENHO\n",
       "0     106   SANTANA DO LIVRAMENTO  12240.76    1088666.10\n",
       "1     113            SANTO ANGELO  16575.82     800669.92\n",
       "2     118  SAO FRANCISCO DE ASSIS  12037.61     466122.80\n",
       "3      13         CACAPAVA DO SUL  13674.54     485535.86\n",
       "4     120             SAO GABRIEL  19912.38     533719.86"
      ]
     },
     "execution_count": 2,
     "metadata": {},
     "output_type": "execute_result"
    }
   ],
   "source": [
    "dataset = pd.read_csv('dados.csv', sep=';')\n",
    "dataset.head()"
   ]
  },
  {
   "cell_type": "code",
   "execution_count": 3,
   "id": "bc0cdb9c-e3dc-4234-895a-93e6bdb65dad",
   "metadata": {},
   "outputs": [
    {
     "data": {
      "text/plain": [
       "(187, 4)"
      ]
     },
     "execution_count": 3,
     "metadata": {},
     "output_type": "execute_result"
    }
   ],
   "source": [
    "dataset.shape"
   ]
  },
  {
   "cell_type": "code",
   "execution_count": 4,
   "id": "f03163b4-a3e9-4871-9416-c5beec7434fc",
   "metadata": {},
   "outputs": [
    {
     "data": {
      "text/plain": [
       "CODIGO          0\n",
       "MUNICIPIO       0\n",
       "PIB             0\n",
       "VALOREMPENHO    0\n",
       "dtype: int64"
      ]
     },
     "execution_count": 4,
     "metadata": {},
     "output_type": "execute_result"
    }
   ],
   "source": [
    "dataset.isnull().sum()"
   ]
  },
  {
   "cell_type": "code",
   "execution_count": 5,
   "id": "cc0fae1a-b90f-47ba-baff-1d3e11a94d36",
   "metadata": {},
   "outputs": [
    {
     "data": {
      "text/html": [
       "<div>\n",
       "<style scoped>\n",
       "    .dataframe tbody tr th:only-of-type {\n",
       "        vertical-align: middle;\n",
       "    }\n",
       "\n",
       "    .dataframe tbody tr th {\n",
       "        vertical-align: top;\n",
       "    }\n",
       "\n",
       "    .dataframe thead th {\n",
       "        text-align: right;\n",
       "    }\n",
       "</style>\n",
       "<table border=\"1\" class=\"dataframe\">\n",
       "  <thead>\n",
       "    <tr style=\"text-align: right;\">\n",
       "      <th></th>\n",
       "      <th>CODIGO</th>\n",
       "      <th>MUNICIPIO</th>\n",
       "      <th>PIB</th>\n",
       "      <th>VALOREMPENHO</th>\n",
       "    </tr>\n",
       "  </thead>\n",
       "  <tbody>\n",
       "    <tr>\n",
       "      <th>18</th>\n",
       "      <td>259</td>\n",
       "      <td>CERRO BRANCO</td>\n",
       "      <td>11961.10</td>\n",
       "      <td>208240.50</td>\n",
       "    </tr>\n",
       "    <tr>\n",
       "      <th>19</th>\n",
       "      <td>259</td>\n",
       "      <td>MONTE ALEGRE DOS CAMPOS</td>\n",
       "      <td>11961.10</td>\n",
       "      <td>208240.50</td>\n",
       "    </tr>\n",
       "    <tr>\n",
       "      <th>21</th>\n",
       "      <td>259</td>\n",
       "      <td>CERRO BRANCO</td>\n",
       "      <td>12467.25</td>\n",
       "      <td>208240.50</td>\n",
       "    </tr>\n",
       "    <tr>\n",
       "      <th>22</th>\n",
       "      <td>259</td>\n",
       "      <td>MONTE ALEGRE DOS CAMPOS</td>\n",
       "      <td>12467.25</td>\n",
       "      <td>208240.50</td>\n",
       "    </tr>\n",
       "    <tr>\n",
       "      <th>41</th>\n",
       "      <td>141</td>\n",
       "      <td>DOUTOR MAURICIO CARDOSO</td>\n",
       "      <td>13628.17</td>\n",
       "      <td>147767.38</td>\n",
       "    </tr>\n",
       "    <tr>\n",
       "      <th>42</th>\n",
       "      <td>141</td>\n",
       "      <td>TAQUARA</td>\n",
       "      <td>13628.17</td>\n",
       "      <td>147767.38</td>\n",
       "    </tr>\n",
       "    <tr>\n",
       "      <th>57</th>\n",
       "      <td>141</td>\n",
       "      <td>DOUTOR MAURICIO CARDOSO</td>\n",
       "      <td>18628.78</td>\n",
       "      <td>147767.38</td>\n",
       "    </tr>\n",
       "    <tr>\n",
       "      <th>58</th>\n",
       "      <td>141</td>\n",
       "      <td>TAQUARA</td>\n",
       "      <td>18628.78</td>\n",
       "      <td>147767.38</td>\n",
       "    </tr>\n",
       "    <tr>\n",
       "      <th>82</th>\n",
       "      <td>378</td>\n",
       "      <td>MULITERNO</td>\n",
       "      <td>16581.60</td>\n",
       "      <td>97594.98</td>\n",
       "    </tr>\n",
       "    <tr>\n",
       "      <th>83</th>\n",
       "      <td>378</td>\n",
       "      <td>SANTO ANTONIO DAS MISSOES</td>\n",
       "      <td>16581.60</td>\n",
       "      <td>97594.98</td>\n",
       "    </tr>\n",
       "    <tr>\n",
       "      <th>94</th>\n",
       "      <td>378</td>\n",
       "      <td>MULITERNO</td>\n",
       "      <td>19914.82</td>\n",
       "      <td>97594.98</td>\n",
       "    </tr>\n",
       "    <tr>\n",
       "      <th>95</th>\n",
       "      <td>378</td>\n",
       "      <td>SANTO ANTONIO DAS MISSOES</td>\n",
       "      <td>19914.82</td>\n",
       "      <td>97594.98</td>\n",
       "    </tr>\n",
       "    <tr>\n",
       "      <th>125</th>\n",
       "      <td>380</td>\n",
       "      <td>NOVA BOA VISTA</td>\n",
       "      <td>18676.57</td>\n",
       "      <td>58868.19</td>\n",
       "    </tr>\n",
       "    <tr>\n",
       "      <th>126</th>\n",
       "      <td>380</td>\n",
       "      <td>SANTO ANTONIO DO PLANALTO</td>\n",
       "      <td>18676.57</td>\n",
       "      <td>58868.19</td>\n",
       "    </tr>\n",
       "    <tr>\n",
       "      <th>141</th>\n",
       "      <td>380</td>\n",
       "      <td>NOVA BOA VISTA</td>\n",
       "      <td>24509.74</td>\n",
       "      <td>58868.19</td>\n",
       "    </tr>\n",
       "    <tr>\n",
       "      <th>142</th>\n",
       "      <td>380</td>\n",
       "      <td>SANTO ANTONIO DO PLANALTO</td>\n",
       "      <td>24509.74</td>\n",
       "      <td>58868.19</td>\n",
       "    </tr>\n",
       "    <tr>\n",
       "      <th>179</th>\n",
       "      <td>372</td>\n",
       "      <td>MATO LEITAO</td>\n",
       "      <td>17213.98</td>\n",
       "      <td>760.00</td>\n",
       "    </tr>\n",
       "    <tr>\n",
       "      <th>180</th>\n",
       "      <td>372</td>\n",
       "      <td>SANTA VITORIA DO PALMAR</td>\n",
       "      <td>17213.98</td>\n",
       "      <td>760.00</td>\n",
       "    </tr>\n",
       "    <tr>\n",
       "      <th>181</th>\n",
       "      <td>372</td>\n",
       "      <td>MATO LEITAO</td>\n",
       "      <td>27170.89</td>\n",
       "      <td>760.00</td>\n",
       "    </tr>\n",
       "    <tr>\n",
       "      <th>182</th>\n",
       "      <td>372</td>\n",
       "      <td>SANTA VITORIA DO PALMAR</td>\n",
       "      <td>27170.89</td>\n",
       "      <td>760.00</td>\n",
       "    </tr>\n",
       "  </tbody>\n",
       "</table>\n",
       "</div>"
      ],
      "text/plain": [
       "     CODIGO                  MUNICIPIO       PIB  VALOREMPENHO\n",
       "18      259               CERRO BRANCO  11961.10     208240.50\n",
       "19      259    MONTE ALEGRE DOS CAMPOS  11961.10     208240.50\n",
       "21      259               CERRO BRANCO  12467.25     208240.50\n",
       "22      259    MONTE ALEGRE DOS CAMPOS  12467.25     208240.50\n",
       "41      141    DOUTOR MAURICIO CARDOSO  13628.17     147767.38\n",
       "42      141                    TAQUARA  13628.17     147767.38\n",
       "57      141    DOUTOR MAURICIO CARDOSO  18628.78     147767.38\n",
       "58      141                    TAQUARA  18628.78     147767.38\n",
       "82      378                  MULITERNO  16581.60      97594.98\n",
       "83      378  SANTO ANTONIO DAS MISSOES  16581.60      97594.98\n",
       "94      378                  MULITERNO  19914.82      97594.98\n",
       "95      378  SANTO ANTONIO DAS MISSOES  19914.82      97594.98\n",
       "125     380             NOVA BOA VISTA  18676.57      58868.19\n",
       "126     380  SANTO ANTONIO DO PLANALTO  18676.57      58868.19\n",
       "141     380             NOVA BOA VISTA  24509.74      58868.19\n",
       "142     380  SANTO ANTONIO DO PLANALTO  24509.74      58868.19\n",
       "179     372                MATO LEITAO  17213.98        760.00\n",
       "180     372    SANTA VITORIA DO PALMAR  17213.98        760.00\n",
       "181     372                MATO LEITAO  27170.89        760.00\n",
       "182     372    SANTA VITORIA DO PALMAR  27170.89        760.00"
      ]
     },
     "execution_count": 5,
     "metadata": {},
     "output_type": "execute_result"
    }
   ],
   "source": [
    "dataset[dataset.duplicated(['CODIGO', 'PIB', 'VALOREMPENHO'], keep=False)]"
   ]
  },
  {
   "cell_type": "code",
   "execution_count": 6,
   "id": "930fd1be-f003-4de2-ad6b-e7bb0b178381",
   "metadata": {},
   "outputs": [
    {
     "data": {
      "text/plain": [
       "(177, 4)"
      ]
     },
     "execution_count": 6,
     "metadata": {},
     "output_type": "execute_result"
    }
   ],
   "source": [
    "dataset.drop_duplicates(subset=['CODIGO', 'PIB', 'VALOREMPENHO'], keep='first', inplace=True)\n",
    "dataset.shape"
   ]
  },
  {
   "cell_type": "code",
   "execution_count": 7,
   "id": "76b01951-370d-48c6-8501-12c7b699caa5",
   "metadata": {},
   "outputs": [
    {
     "data": {
      "text/plain": [
       "MUNICIPIO\n",
       "AGUDO                         1\n",
       "AJURICABA                     1\n",
       "ALECRIM                       1\n",
       "ALMIRANTE TAMANDARE DO SUL    1\n",
       "ALTO FELIZ                    1\n",
       "                             ..\n",
       "VERA CRUZ                     1\n",
       "VIADUTOS                      1\n",
       "VICTOR GRAEFF                 1\n",
       "VILA MARIA                    1\n",
       "VILA NOVA DO SUL              1\n",
       "Length: 172, dtype: int64"
      ]
     },
     "execution_count": 7,
     "metadata": {},
     "output_type": "execute_result"
    }
   ],
   "source": [
    "dataset.groupby(['MUNICIPIO']).size()"
   ]
  },
  {
   "cell_type": "code",
   "execution_count": 8,
   "id": "76f433f4-0225-47db-884a-63638bce8b80",
   "metadata": {},
   "outputs": [
    {
     "name": "stderr",
     "output_type": "stream",
     "text": [
      "C:\\Users\\wellb\\AppData\\Local\\Programs\\Python\\Python310\\lib\\site-packages\\seaborn\\distributions.py:2619: FutureWarning: `distplot` is a deprecated function and will be removed in a future version. Please adapt your code to use either `displot` (a figure-level function with similar flexibility) or `histplot` (an axes-level function for histograms).\n",
      "  warnings.warn(msg, FutureWarning)\n"
     ]
    },
    {
     "data": {
      "text/plain": [
       "Text(0.5, 1.0, 'PIB')"
      ]
     },
     "execution_count": 8,
     "metadata": {},
     "output_type": "execute_result"
    },
    {
     "data": {
      "image/png": "[encoded data removed]",
      "text/plain": [
       "<Figure size 432x288 with 1 Axes>"
      ]
     },
     "metadata": {
      "needs_background": "light"
     },
     "output_type": "display_data"
    }
   ],
   "source": [
    "srn.distplot(dataset.PIB, bins=10, axlabel='PIB', hist=True, hist_kws={'edgecolor': 'black'}).set_title('PIB')"
   ]
  },
  {
   "cell_type": "code",
   "execution_count": 9,
   "id": "5ede0d89-9f4d-45bc-af49-3062b4d5186b",
   "metadata": {},
   "outputs": [
    {
     "name": "stderr",
     "output_type": "stream",
     "text": [
      "C:\\Users\\wellb\\AppData\\Local\\Programs\\Python\\Python310\\lib\\site-packages\\seaborn\\distributions.py:2619: FutureWarning: `distplot` is a deprecated function and will be removed in a future version. Please adapt your code to use either `displot` (a figure-level function with similar flexibility) or `histplot` (an axes-level function for histograms).\n",
      "  warnings.warn(msg, FutureWarning)\n"
     ]
    },
    {
     "data": {
      "text/plain": [
       "Text(0.5, 1.0, 'Valor do Empenho')"
      ]
     },
     "execution_count": 9,
     "metadata": {},
     "output_type": "execute_result"
    },
    {
     "data": {
      "image/png": "[encoded data removed]",
      "text/plain": [
       "<Figure size 432x288 with 1 Axes>"
      ]
     },
     "metadata": {
      "needs_background": "light"
     },
     "output_type": "display_data"
    }
   ],
   "source": [
    "srn.distplot(dataset.VALOREMPENHO, bins=10, axlabel='Valor do Empenho', hist=True, \n",
    "             hist_kws={'edgecolor': 'black'}).set_title('Valor do Empenho')"
   ]
  },
  {
   "cell_type": "code",
   "execution_count": 10,
   "id": "54214aea-c46c-44be-a503-771bf2a65643",
   "metadata": {},
   "outputs": [
    {
     "data": {
      "text/plain": [
       "<AxesSubplot:xlabel='MUNICIPIO'>"
      ]
     },
     "execution_count": 10,
     "metadata": {},
     "output_type": "execute_result"
    },
    {
     "data": {
      "image/png": "[encoded data removed]",
      "text/plain": [
       "<Figure size 432x288 with 1 Axes>"
      ]
     },
     "metadata": {
      "needs_background": "light"
     },
     "output_type": "display_data"
    }
   ],
   "source": [
    "pib_agrupado = dataset.sort_values(['PIB']).tail(10)\n",
    "pib_agrupado.plot.bar(x='MUNICIPIO', y='PIB', color='gray')"
   ]
  },
  {
   "cell_type": "code",
   "execution_count": 11,
   "id": "28d527d5-419d-4c27-aea5-11577168984c",
   "metadata": {},
   "outputs": [
    {
     "data": {
      "text/plain": [
       "<AxesSubplot:xlabel='MUNICIPIO'>"
      ]
     },
     "execution_count": 11,
     "metadata": {},
     "output_type": "execute_result"
    },
    {
     "data": {
      "image/png": "[encoded data removed]",
      "text/plain": [
       "<Figure size 432x288 with 1 Axes>"
      ]
     },
     "metadata": {
      "needs_background": "light"
     },
     "output_type": "display_data"
    }
   ],
   "source": [
    "empenho_agrupado = dataset.sort_values('VALOREMPENHO').tail(10)\n",
    "empenho_agrupado.plot.bar(x='MUNICIPIO', y='VALOREMPENHO', color='gray')"
   ]
  },
  {
   "cell_type": "code",
   "execution_count": null,
   "id": "d905866d-2800-4b02-92d0-3fab6ea23126",
   "metadata": {},
   "outputs": [],
   "source": []
  }
 ],
 "metadata": {
  "kernelspec": {
   "display_name": "Python 3 (ipykernel)",
   "language": "python",
   "name": "python3"
  },
  "language_info": {
   "codemirror_mode": {
    "name": "ipython",
    "version": 3
   },
   "file_extension": ".py",
   "mimetype": "text/x-python",
   "name": "python",
   "nbconvert_exporter": "python",
   "pygments_lexer": "ipython3",
   "version": "3.10.3"
  }
 },
 "nbformat": 4,
 "nbformat_minor": 5
}
